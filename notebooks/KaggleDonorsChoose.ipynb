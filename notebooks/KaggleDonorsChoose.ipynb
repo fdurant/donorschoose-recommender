{
 "cells": [
  {
   "cell_type": "markdown",
   "metadata": {},
   "source": [
    "# DonorsChoose.org exploratory data analysis"
   ]
  },
  {
   "cell_type": "markdown",
   "metadata": {},
   "source": [
    "Prerequisite: [data](https://www.kaggle.com/donorschoose/datasets) have been downloaded into the data directory, and files have been gzipped"
   ]
  },
  {
   "cell_type": "code",
   "execution_count": 3,
   "metadata": {},
   "outputs": [
    {
     "name": "stdout",
     "output_type": "stream",
     "text": [
      "total 1346768\r\n",
      "drwxr-xr-x  8 root root       256 Jun 10 14:29 \u001b[0m\u001b[01;34m.\u001b[0m/\r\n",
      "drwxr-xr-x 45 root root      4096 Jun 10 15:22 \u001b[01;34m..\u001b[0m/\r\n",
      "-rwxr-xr-x  1 root root 248649041 May 14 17:28 \u001b[01;32mDonations.csv.gz\u001b[0m*\r\n",
      "-rwxr-xr-x  1 root root  54034301 May 14 17:27 \u001b[01;32mDonors.csv.gz\u001b[0m*\r\n",
      "-rwxr-xr-x  1 root root 813408699 May 14 17:27 \u001b[01;32mProjects.csv.gz\u001b[0m*\r\n",
      "-rwxr-xr-x  1 root root 223356307 May 14 17:27 \u001b[01;32mResources.csv.gz\u001b[0m*\r\n",
      "-rwxr-xr-x  1 root root   3550946 May 14 17:28 \u001b[01;32mSchools.csv.gz\u001b[0m*\r\n",
      "-rwxr-xr-x  1 root root   9033218 May 14 17:27 \u001b[01;32mTeachers.csv.gz\u001b[0m*\r\n"
     ]
    }
   ],
   "source": [
    "ls -al /data"
   ]
  },
  {
   "cell_type": "code",
   "execution_count": null,
   "metadata": {},
   "outputs": [],
   "source": []
  }
 ],
 "metadata": {
  "kernelspec": {
   "display_name": "Python 3",
   "language": "python",
   "name": "python3"
  },
  "language_info": {
   "codemirror_mode": {
    "name": "ipython",
    "version": 3
   },
   "file_extension": ".py",
   "mimetype": "text/x-python",
   "name": "python",
   "nbconvert_exporter": "python",
   "pygments_lexer": "ipython3",
   "version": "3.6.5"
  }
 },
 "nbformat": 4,
 "nbformat_minor": 2
}
